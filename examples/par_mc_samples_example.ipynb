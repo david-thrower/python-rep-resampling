{
 "cells": [
  {
   "cell_type": "code",
   "execution_count": 147,
   "metadata": {},
   "outputs": [],
   "source": [
    "def par_mc_samples(df,n,reps,replace = False,random_state = 8675309, chunksize = 100):\n",
    "    import dask\n",
    "    import dask.dataframe as dd\n",
    "    from copy import copy\n",
    "    cols = copy(df.columns)\n",
    "    cols = cols.insert(0,'rep')\n",
    "    mc_samples_to_return = dd.from_pandas(pd.DataFrame().reindex(columns= cols),chunksize=chunksize)\n",
    "    if type(df) != dask.dataframe.core.DataFrame:\n",
    "        dd_df = dd.from_pandas(df,chunksize = chunksize)\n",
    "    else:\n",
    "        dd_df = df\n",
    "    for i in range(0,reps):\n",
    "        frac = n/dd_df.shape[0].compute()\n",
    "        selected_samples_for_rep = dd_df.sample(frac = frac,replace=replace,random_state=random_state).compute()\n",
    "        rep_number = []\n",
    "        for j in range(0,n):\n",
    "            rep_number.append([copy(i)])\n",
    "        rep_number = dd.from_pandas(pd.DataFrame(rep_number),chunksize=chunksize)\n",
    "        rep_number.columns = ['rep_number']\n",
    "        selected_samples_for_rep.reset_index(drop=True, inplace=True)\n",
    "        selected_samples_for_rep = dd.from_pandas(selected_samples_for_rep,chunksize = chunksize)\n",
    "        selected_samples_for_rep = dd.concat([copy(rep_number),copy(selected_samples_for_rep)],axis = 1,ignore_index = True)\n",
    "        selected_samples_for_rep.columns = cols \n",
    "        mc_samples_to_return = dd.concat([copy(mc_samples_to_return),copy(selected_samples_for_rep)], axis = 0)\n",
    "        random_state += 1\n",
    "    mc_samples_to_return = mc_samples_to_return.groupby(by='rep')\n",
    "    return mc_samples_to_return\n",
    "\n",
    "\n",
    "\n",
    "\n",
    "\n"
   ]
  },
  {
   "cell_type": "code",
   "execution_count": 148,
   "metadata": {},
   "outputs": [],
   "source": [
    "import dask\n",
    "from dask import dataframe as dd\n",
    "import pandas as pd\n",
    "import matplotlib.pyplot as plt"
   ]
  },
  {
   "cell_type": "code",
   "execution_count": 155,
   "metadata": {},
   "outputs": [
    {
     "data": {
      "text/plain": [
       "False"
      ]
     },
     "execution_count": 155,
     "metadata": {},
     "output_type": "execute_result"
    }
   ],
   "source": [
    "#df = dd.from_pandas(pd.DataFrame([[0,1],[2,3],[4,5],[6,7],[8,9]]),chunksize = 100)\n",
    "df = pd.DataFrame([[0,1],[2,3],[4,5],[6,7],[8,9]])\n",
    "df.columns = ['a','b']\n",
    "type(df) == dask.dataframe.core.DataFrame\n",
    "# I know that the chnnksize I chose is > the size of the job. I am testing that the default of 100\n",
    "# won't break something if a user submits a job smaller than 100. Maybe I am being OCD as usual."
   ]
  },
  {
   "cell_type": "code",
   "execution_count": 156,
   "metadata": {},
   "outputs": [
    {
     "name": "stdout",
     "output_type": "stream",
     "text": [
      "success\n"
     ]
    }
   ],
   "source": [
    "samples = par_mc_samples(df = df, n = 10,reps = 100, replace = True)\n",
    "print('success')"
   ]
  },
  {
   "cell_type": "code",
   "execution_count": 151,
   "metadata": {},
   "outputs": [
    {
     "data": {
      "text/plain": [
       "dask.dataframe.groupby.DataFrameGroupBy"
      ]
     },
     "execution_count": 151,
     "metadata": {},
     "output_type": "execute_result"
    }
   ],
   "source": [
    "type(samples)"
   ]
  },
  {
   "cell_type": "code",
   "execution_count": 152,
   "metadata": {},
   "outputs": [],
   "source": [
    "a_sample_means = samples['a'].mean().compute()"
   ]
  },
  {
   "cell_type": "code",
   "execution_count": 122,
   "metadata": {},
   "outputs": [],
   "source": [
    "# pd_samp = samples.to_csv('/home/mcguyver07/Desktop/test_test.csv')"
   ]
  },
  {
   "cell_type": "code",
   "execution_count": 157,
   "metadata": {},
   "outputs": [
    {
     "data": {
      "text/plain": [
       "pandas.core.series.Series"
      ]
     },
     "execution_count": 157,
     "metadata": {},
     "output_type": "execute_result"
    }
   ],
   "source": [
    "type(a_sample_means)"
   ]
  },
  {
   "cell_type": "code",
   "execution_count": 159,
   "metadata": {},
   "outputs": [
    {
     "data": {
      "text/plain": [
       "<AxesSubplot:ylabel='Density'>"
      ]
     },
     "execution_count": 159,
     "metadata": {},
     "output_type": "execute_result"
    },
    {
     "data": {
      "image/png": "[encoded data removed]",
      "text/plain": [
       "<Figure size 432x288 with 1 Axes>"
      ]
     },
     "metadata": {
      "needs_background": "light"
     },
     "output_type": "display_data"
    }
   ],
   "source": [
    "standard_error_hat = a_sample_means.std()\n",
    "mean_of_sample_means = a_sample_means.mean()\n",
    "plt.axvline(mean_of_sample_means + standard_error_hat,color='y')\n",
    "plt.axvline(mean_of_sample_means - standard_error_hat,color='y')\n",
    "plt.axvline(mean_of_sample_means + 2 * standard_error_hat,color='r')\n",
    "plt.axvline(mean_of_sample_means - 2 * standard_error_hat,color='r')\n",
    "\n",
    "original_sample_mean = df['a'].mean()#.compute()\n",
    "plt.axvline(original_sample_mean, color = 'g')\n",
    "\n",
    "a_sample_means.plot.density()\n"
   ]
  },
  {
   "cell_type": "code",
   "execution_count": 160,
   "metadata": {},
   "outputs": [
    {
     "data": {
      "text/plain": [
       "(100,)"
      ]
     },
     "execution_count": 160,
     "metadata": {},
     "output_type": "execute_result"
    }
   ],
   "source": [
    "a_sample_means.shape"
   ]
  },
  {
   "cell_type": "code",
   "execution_count": null,
   "metadata": {},
   "outputs": [],
   "source": []
  }
 ],
 "metadata": {
  "kernelspec": {
   "display_name": "Python 3",
   "language": "python",
   "name": "python3"
  },
  "language_info": {
   "codemirror_mode": {
    "name": "ipython",
    "version": 3
   },
   "file_extension": ".py",
   "mimetype": "text/x-python",
   "name": "python",
   "nbconvert_exporter": "python",
   "pygments_lexer": "ipython3",
   "version": "3.6.9"
  }
 },
 "nbformat": 4,
 "nbformat_minor": 4
}
