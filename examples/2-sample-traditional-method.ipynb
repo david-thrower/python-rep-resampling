{
 "cells": [
  {
   "cell_type": "code",
   "execution_count": 30,
   "metadata": {},
   "outputs": [
    {
     "data": {
      "image/png": "[encoded data removed]",
      "text/plain": [
       "<Figure size 432x288 with 1 Axes>"
      ]
     },
     "metadata": {
      "needs_background": "light"
     },
     "output_type": "display_data"
    }
   ],
   "source": [
    "from resamples import par_mc_samples\n",
    "import pandas as pd\n",
    "import matplotlib.pyplot as plt\n",
    "import scipy.stats as st\n",
    "\n",
    "df = pd.DataFrame([[1,2],[3,2],[5,6],[7,7],[9,0]])\n",
    "df.columns = ['a','b']\n",
    "\n",
    "original_sample_means = df.mean()\n",
    "\n",
    "\n",
    "pooled_sample = pd.DataFrame({'pooled_a_b':pd.concat([df['a'],df['b']],axis=0)})\n",
    "\n",
    "\n",
    "resampled_pooled_df = par_mc_samples(pooled_sample,10,1000,replace = True)\n",
    "resampled_means_for_each_rep = resampled_pooled_df.mean().compute()\n",
    "sample_distribution_mean = resampled_pooled_df.mean().mean().compute()\n",
    "\n",
    "std_error = resampled_pooled_df.mean().std().compute()\n",
    "\n",
    "resampled_pooled_df.mean().compute().plot.density(color = 'aqua')\n",
    "\n",
    "#plt.axvline(original_sample_means['a'],color = 'fuchsia')\n",
    "#plt.axvline(original_sample_means['b'],color = 'mediumvioletred')\n",
    "# Sample distribution mean\n",
    "plt.axvline(sample_distribution_mean[0],color = 'aqua') \n",
    "# Difference of the means of sample a and sample b divided by the standard error (scaled to the sampling distribution mean)\n",
    "scaled_std_errors_difference_a_b = sample_distribution_mean[0] + (original_sample_means['a'] - original_sample_means['b'])/std_error[0]\n",
    "plt.axvline(scaled_std_errors_difference_a_b,color = 'green')\n",
    "\n",
    "\n",
    "plt.axvline(sample_distribution_mean[0] + 1.65 * std_error[0],color='r')\n",
    "#plt.axvline(sample_distribution_mean[0] - std_error[0],color='y')\n",
    "#plt.axvline(sample_distribution_mean[0] + 2 * std_error[0],color='r')\n",
    "#plt.axvline(sample_distribution_mean[0] - 2 * std_error[0],color='r')\n",
    "\n",
    "\n",
    "\n",
    "plt.show()"
   ]
  },
  {
   "cell_type": "code",
   "execution_count": 31,
   "metadata": {},
   "outputs": [
    {
     "name": "stdout",
     "output_type": "stream",
     "text": [
      "We simulated the null distribution for the pooled populations reporesented by samples a and b\n",
      "H0: The population mean of sample a <= the population mean of sample b\n",
      "H1: The population mean of sample a > the population mean of sample b\n",
      "There is sufficient evidence to reject the null hypothesis that a <= b and conclude that\n",
      "the mean of sample a > the mean of sample b.\n",
      "p = 0.03689467730438756\n"
     ]
    }
   ],
   "source": [
    "print(\"We simulated the null distribution for the pooled populations reporesented by samples a and b\")\n",
    "print(\"H0: The population mean of sample a <= the population mean of sample b\")\n",
    "print(\"H1: The population mean of sample a > the population mean of sample b\")\n",
    "print(\"There is sufficient evidence to reject the null hypothesis that a <= b and conclude that\")\n",
    "print(\"the mean of sample a > the mean of sample b.\")\n",
    "print(f\"p = {1 - st.norm.cdf((original_sample_means['a'] - original_sample_means['b'])/std_error[0])}\")"
   ]
  },
  {
   "cell_type": "code",
   "execution_count": null,
   "metadata": {},
   "outputs": [],
   "source": []
  }
 ],
 "metadata": {
  "kernelspec": {
   "display_name": "Python 3",
   "language": "python",
   "name": "python3"
  },
  "language_info": {
   "codemirror_mode": {
    "name": "ipython",
    "version": 3
   },
   "file_extension": ".py",
   "mimetype": "text/x-python",
   "name": "python",
   "nbconvert_exporter": "python",
   "pygments_lexer": "ipython3",
   "version": "3.6.9"
  }
 },
 "nbformat": 4,
 "nbformat_minor": 4
}
