{
 "cells": [
  {
   "cell_type": "code",
   "execution_count": 4,
   "metadata": {},
   "outputs": [],
   "source": [
    "def mc_samples(df,n,reps,replace = False,random_state = 8675309):\n",
    "    import pandas as pd\n",
    "    from copy import copy\n",
    "    cols = copy(df.columns)\n",
    "    cols = cols.insert(0,'rep')\n",
    "    mc_samples_to_return = pd.DataFrame().reindex(columns= cols)\n",
    "    for i in range(0,reps):\n",
    "        selected_samples_for_rep = pd.DataFrame(df.sample(n,replace=replace,random_state=random_state))\n",
    "        rep_number = []\n",
    "        for j in range(0,n):\n",
    "            rep_number.append([copy(i)])\n",
    "        rep_number = pd.DataFrame(rep_number)\n",
    "        rep_number.columns = ['rep_number']\n",
    "        selected_samples_for_rep.reset_index(drop=True, inplace=True)\n",
    "        selected_samples_for_rep = pd.concat((copy(rep_number),copy(selected_samples_for_rep)),axis = 1,ignore_index = True,sort=False)\n",
    "        selected_samples_for_rep.columns = cols\n",
    "        mc_samples_to_return = pd.concat((copy(mc_samples_to_return),copy(selected_samples_for_rep)), axis = 0,sort=False)\n",
    "        random_state += 1\n",
    "    mc_samples_to_return = mc_samples_to_return.groupby(by='rep')\n",
    "    return mc_samples_to_return"
   ]
  },
  {
   "cell_type": "code",
   "execution_count": 5,
   "metadata": {},
   "outputs": [],
   "source": [
    "import dask\n",
    "from dask import dataframe as dd\n",
    "import pandas as pd\n",
    "import matplotlib.pyplot as plt"
   ]
  },
  {
   "cell_type": "code",
   "execution_count": 6,
   "metadata": {},
   "outputs": [],
   "source": [
    "df = pd.DataFrame([[0,1],[2,3],[4,5],[6,7],[8,9]])\n",
    "df.columns = ['a','b']"
   ]
  },
  {
   "cell_type": "code",
   "execution_count": 8,
   "metadata": {},
   "outputs": [
    {
     "name": "stdout",
     "output_type": "stream",
     "text": [
      "success\n"
     ]
    }
   ],
   "source": [
    "samples = mc_samples(df = df, n = 100,reps = 100, replace = True)\n",
    "print('success')"
   ]
  },
  {
   "cell_type": "code",
   "execution_count": 9,
   "metadata": {},
   "outputs": [],
   "source": [
    "a_sample_means = samples['a'].mean()"
   ]
  },
  {
   "cell_type": "code",
   "execution_count": 10,
   "metadata": {},
   "outputs": [
    {
     "data": {
      "text/plain": [
       "<AxesSubplot:ylabel='Density'>"
      ]
     },
     "execution_count": 10,
     "metadata": {},
     "output_type": "execute_result"
    },
    {
     "data": {
      "image/png": "[encoded data removed]",
      "text/plain": [
       "<Figure size 432x288 with 1 Axes>"
      ]
     },
     "metadata": {
      "needs_background": "light"
     },
     "output_type": "display_data"
    }
   ],
   "source": [
    "standard_error_hat = a_sample_means.std()\n",
    "mean_of_sample_means = a_sample_means.mean()\n",
    "plt.axvline(mean_of_sample_means + standard_error_hat,color='y')\n",
    "plt.axvline(mean_of_sample_means - standard_error_hat,color='y')\n",
    "plt.axvline(mean_of_sample_means + 2 * standard_error_hat,color='r')\n",
    "plt.axvline(mean_of_sample_means - 2 * standard_error_hat,color='r')\n",
    "\n",
    "original_sample_mean = df['a'].mean()\n",
    "plt.axvline(original_sample_mean, color = 'g')\n",
    "\n",
    "a_sample_means.plot.density()"
   ]
  },
  {
   "cell_type": "code",
   "execution_count": 13,
   "metadata": {},
   "outputs": [
    {
     "name": "stdout",
     "output_type": "stream",
     "text": [
      "     rep    a    b\n",
      "0    0.0  2.0  3.0\n",
      "1    0.0  8.0  9.0\n",
      "2    0.0  8.0  9.0\n",
      "3    0.0  0.0  1.0\n",
      "4    0.0  0.0  1.0\n",
      "..   ...  ...  ...\n",
      "0   99.0  0.0  1.0\n",
      "1   99.0  6.0  7.0\n",
      "2   99.0  0.0  1.0\n",
      "3   99.0  2.0  3.0\n",
      "4   99.0  2.0  3.0\n",
      "\n",
      "[500 rows x 3 columns]\n"
     ]
    }
   ],
   "source": [
    "print(samples.head())"
   ]
  },
  {
   "cell_type": "code",
   "execution_count": null,
   "metadata": {},
   "outputs": [],
   "source": []
  }
 ],
 "metadata": {
  "kernelspec": {
   "display_name": "Python 3",
   "language": "python",
   "name": "python3"
  },
  "language_info": {
   "codemirror_mode": {
    "name": "ipython",
    "version": 3
   },
   "file_extension": ".py",
   "mimetype": "text/x-python",
   "name": "python",
   "nbconvert_exporter": "python",
   "pygments_lexer": "ipython3",
   "version": "3.6.9"
  }
 },
 "nbformat": 4,
 "nbformat_minor": 4
}
